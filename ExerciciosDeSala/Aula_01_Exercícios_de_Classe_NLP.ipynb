{
  "nbformat": 4,
  "nbformat_minor": 0,
  "metadata": {
    "colab": {
      "name": "Aula 01 - Exercícios de Classe - NLP.ipynb",
      "provenance": [],
      "collapsed_sections": []
    },
    "kernelspec": {
      "name": "python3",
      "display_name": "Python 3"
    },
    "language_info": {
      "name": "python"
    }
  },
  "cells": [
    {
      "cell_type": "markdown",
      "source": [
        "# Code1.py"
      ],
      "metadata": {
        "id": "q9ggBgupKPDf"
      }
    },
    {
      "cell_type": "code",
      "source": [
        "import re\n",
        "# Write a pattern to match sentence endings: sentence_endings\n",
        "my_string = \"Let's write RegEx!  Won't that be fun?  \" \\\n",
        "            \"I sure think so.  Can you find 4 sentences? \" \\\n",
        "            \"Or perhaps, all 19 words?\"\n",
        "\n",
        "sentence_endings = r\"[.?!]\"\n",
        "\n",
        "# Split my_string on sentence endings and print the result\n",
        "print(re.split(sentence_endings, my_string))\n",
        "\n",
        "# Find all capitalized words in my_string and print the result\n",
        "capitalized_words = r\"[A-Z]\\w+\"\n",
        "print(re.findall(capitalized_words, my_string))\n",
        "\n",
        "# Split my_string on spaces and print the result\n",
        "spaces = r\"\\s+\"\n",
        "print(re.split(spaces, my_string))\n",
        "\n",
        "# Find all digits in my_string and print the result\n",
        "digits = r\"\\d+\"\n",
        "print(re.findall(digits, my_string))"
      ],
      "metadata": {
        "colab": {
          "base_uri": "https://localhost:8080/"
        },
        "id": "z_KJvYSahHQC",
        "outputId": "7e18ae7a-bdc8-44ff-ac87-6810eaa74a5b"
      },
      "execution_count": null,
      "outputs": [
        {
          "output_type": "stream",
          "name": "stdout",
          "text": [
            "[\"Let's write RegEx\", \"  Won't that be fun\", '  I sure think so', '  Can you find 4 sentences', ' Or perhaps, all 19 words', '']\n",
            "['Let', 'RegEx', 'Won', 'Can', 'Or']\n",
            "[\"Let's\", 'write', 'RegEx!', \"Won't\", 'that', 'be', 'fun?', 'I', 'sure', 'think', 'so.', 'Can', 'you', 'find', '4', 'sentences?', 'Or', 'perhaps,', 'all', '19', 'words?']\n",
            "['4', '19']\n"
          ]
        }
      ]
    },
    {
      "cell_type": "markdown",
      "source": [
        "# Code2.py"
      ],
      "metadata": {
        "id": "asDHG5HZKHFW"
      }
    },
    {
      "cell_type": "code",
      "source": [
        "#npl_utils\n",
        "def get_sample_Santo_Graal():\n",
        "\n",
        " return \"SCENE 1: [wind] [clop clop clop] \\n KING ARTHUR: Whoa there!  [clop clop clop] \\nSOLDIER #1: Halt!  Who goes there?\\nARTHUR: It is I, Arthur, son of Uther Pendragon, from the castle of Camelot.  King of the Britons, defeator of the Saxons, sovereign of all England!\\nSOLDIER #1: Pull the other one!\\nARTHUR: I am, ...  and this is my trusty servant Patsy.  We have ridden the length and breadth of the land in search of knights who will join me in my court at Camelot.  I must speak with your lord and master.\\nSOLDIER #1: What?  Ridden on a horse?\\nARTHUR: Yes!\\nSOLDIER #1: You're using coconuts!\\nARTHUR: What?\\nSOLDIER #1: You've got two empty halves of coconut and you're bangin' 'em together.\\nARTHUR: So?  We have ridden since the snows of winter covered this land, through the kingdom of Mercea, through--\\nSOLDIER #1: Where'd you get the coconuts?\\nARTHUR: We found them.\\nSOLDIER #1: Found them?  In Mercea?  The coconut's tropical!\\nARTHUR: What do you mean?\\nSOLDIER #1: Well, this is a temperate zone.\\nARTHUR: The swallow may fly south with the sun or the house martin or the plover may seek warmer climes in winter, yet these are not strangers to our land?\\nSOLDIER #1: Are you suggesting coconuts migrate?\\nARTHUR: Not at all.  They could be carried.\\nSOLDIER #1: What?  A swallow carrying a coconut?\\nARTHUR: It could grip it by the husk!\\nSOLDIER #1: It's not a question of where he grips it!  It's a simple question of weight ratios!  A five ounce bird could not carry a one pound coconut.\\nARTHUR: Well, it doesn't matter.  Will you go and tell your master that Arthur from the Court of Camelot is here.\\nSOLDIER #1: Listen.  In order to maintain air-speed velocity, a swallow needs to beat its wings forty-three times every second, right?\\nARTHUR: Please!\\nSOLDIER #1: Am I right?\\nARTHUR: I'm not interested!\\nSOLDIER #2: It could be carried by an African swallow!\\nSOLDIER #1: Oh, yeah, an African swallow maybe, but not a European swallow.  That's my point.\\nSOLDIER #2: Oh, yeah, I agree with that.\\nARTHUR: Will you ask your master if he wants to join my court at Camelot?!\\nSOLDIER #1: But then of course a-- African swallows are non-migratory.\\nSOLDIER #2: Oh, yeah...\\nSOLDIER #1: So they couldn't bring a coconut back anyway...  [clop clop clop] \\nSOLDIER #2: Wait a minute!  Supposing two swallows carried it together?\\nSOLDIER #1: No, they'd have to have it on a line.\\nSOLDIER #2: Well, simple!  They'd just use a strand of creeper!\\nSOLDIER #1: What, held under the dorsal guiding feathers?\\nSOLDIER #2: Well, why not?\\n\"\n",
        "\n",
        "def get_tweets_sample():\n",
        " return ['This is the best #nlp exercise ive found online! #python',\n",
        "  '#NLP is super fun! <3 #learning',\n",
        "  'Thanks @Atlantico :) #nlp #python']\n"
      ],
      "metadata": {
        "id": "VIF2HwSWiVMB"
      },
      "execution_count": null,
      "outputs": []
    },
    {
      "cell_type": "code",
      "source": [
        "# Import necessary modules\n",
        "import nltk\n",
        "nltk.download('punkt')\n"
      ],
      "metadata": {
        "colab": {
          "base_uri": "https://localhost:8080/"
        },
        "id": "MfRZG_P-jYYF",
        "outputId": "66de76b1-6b8b-44ca-e256-861dc215ab91"
      },
      "execution_count": null,
      "outputs": [
        {
          "output_type": "stream",
          "name": "stdout",
          "text": [
            "[nltk_data] Downloading package punkt to /root/nltk_data...\n",
            "[nltk_data]   Package punkt is already up-to-date!\n"
          ]
        },
        {
          "output_type": "execute_result",
          "data": {
            "text/plain": [
              "True"
            ]
          },
          "metadata": {},
          "execution_count": 37
        }
      ]
    },
    {
      "cell_type": "code",
      "source": [
        "\n",
        "from nltk.tokenize import sent_tokenize , word_tokenize\n",
        "\n",
        "# # Split scene_one into sentences: sentences\n",
        "scene_one = get_sample_Santo_Graal()\n",
        "sentences = sent_tokenize(scene_one)\n",
        "print(sentences)\n",
        "\n",
        "# # Use word_tokenize to tokenize the fourth sentence: tokenized_sent\n",
        "tokenized_sent = word_tokenize(sentences[3])\n",
        "print(tokenized_sent)\n",
        "\n",
        "# # Make a set of unique tokens in the entire scene: unique_tokens\n",
        "unique_tokens = set(word_tokenize(scene_one))\n",
        "\n",
        "# # Print the unique tokens result\n",
        "print(unique_tokens)"
      ],
      "metadata": {
        "colab": {
          "base_uri": "https://localhost:8080/"
        },
        "id": "2ntzvS6ghf30",
        "outputId": "adfb1b2b-0fef-40a9-9fb7-a7e6f35776e6"
      },
      "execution_count": null,
      "outputs": [
        {
          "output_type": "stream",
          "name": "stdout",
          "text": [
            "['SCENE 1: [wind] [clop clop clop] \\n KING ARTHUR: Whoa there!', '[clop clop clop] \\nSOLDIER #1: Halt!', 'Who goes there?', 'ARTHUR: It is I, Arthur, son of Uther Pendragon, from the castle of Camelot.', 'King of the Britons, defeator of the Saxons, sovereign of all England!', 'SOLDIER #1: Pull the other one!', 'ARTHUR: I am, ...  and this is my trusty servant Patsy.', 'We have ridden the length and breadth of the land in search of knights who will join me in my court at Camelot.', 'I must speak with your lord and master.', 'SOLDIER #1: What?', 'Ridden on a horse?', 'ARTHUR: Yes!', \"SOLDIER #1: You're using coconuts!\", 'ARTHUR: What?', \"SOLDIER #1: You've got two empty halves of coconut and you're bangin' 'em together.\", 'ARTHUR: So?', \"We have ridden since the snows of winter covered this land, through the kingdom of Mercea, through--\\nSOLDIER #1: Where'd you get the coconuts?\", 'ARTHUR: We found them.', 'SOLDIER #1: Found them?', 'In Mercea?', \"The coconut's tropical!\", 'ARTHUR: What do you mean?', 'SOLDIER #1: Well, this is a temperate zone.', 'ARTHUR: The swallow may fly south with the sun or the house martin or the plover may seek warmer climes in winter, yet these are not strangers to our land?', 'SOLDIER #1: Are you suggesting coconuts migrate?', 'ARTHUR: Not at all.', 'They could be carried.', 'SOLDIER #1: What?', 'A swallow carrying a coconut?', 'ARTHUR: It could grip it by the husk!', \"SOLDIER #1: It's not a question of where he grips it!\", \"It's a simple question of weight ratios!\", 'A five ounce bird could not carry a one pound coconut.', \"ARTHUR: Well, it doesn't matter.\", 'Will you go and tell your master that Arthur from the Court of Camelot is here.', 'SOLDIER #1: Listen.', 'In order to maintain air-speed velocity, a swallow needs to beat its wings forty-three times every second, right?', 'ARTHUR: Please!', 'SOLDIER #1: Am I right?', \"ARTHUR: I'm not interested!\", 'SOLDIER #2: It could be carried by an African swallow!', 'SOLDIER #1: Oh, yeah, an African swallow maybe, but not a European swallow.', \"That's my point.\", 'SOLDIER #2: Oh, yeah, I agree with that.', 'ARTHUR: Will you ask your master if he wants to join my court at Camelot?!', 'SOLDIER #1: But then of course a-- African swallows are non-migratory.', 'SOLDIER #2: Oh, yeah...', \"SOLDIER #1: So they couldn't bring a coconut back anyway...  [clop clop clop] \\nSOLDIER #2: Wait a minute!\", 'Supposing two swallows carried it together?', \"SOLDIER #1: No, they'd have to have it on a line.\", 'SOLDIER #2: Well, simple!', \"They'd just use a strand of creeper!\", 'SOLDIER #1: What, held under the dorsal guiding feathers?', 'SOLDIER #2: Well, why not?']\n",
            "['ARTHUR', ':', 'It', 'is', 'I', ',', 'Arthur', ',', 'son', 'of', 'Uther', 'Pendragon', ',', 'from', 'the', 'castle', 'of', 'Camelot', '.']\n",
            "{'do', 'seek', 'bring', 'horse', 'two', \"'d\", 'non-migratory', 'fly', 'son', 'one', 'me', 'grips', 'migrate', 'climes', 'strand', 'ARTHUR', 'are', 'point', 'use', 'grip', 'defeator', 'the', 'he', 'length', 'where', 'must', 'servant', 'matter', 'since', 'halves', '...', 'air-speed', 'beat', '.', 'But', 'who', 'Found', 'tell', 'have', 'Where', 'interested', 'Mercea', 'Am', 'ratios', 'master', 'it', 'in', 'together', 'wings', 'through', 'sovereign', 'kingdom', 'your', 'then', 'plover', '2', 'Listen', 'The', 'question', 'Arthur', 'be', 'order', 'not', 'goes', 'on', 'all', 'suggesting', 'SOLDIER', 'coconut', 'line', 'court', 'agree', 'them', 'Wait', 'Uther', \"'s\", 'martin', 'by', 'but', 'European', 'its', 'It', 'search', 'may', \"'ve\", 'We', 'warmer', 'Who', 'dorsal', 'Well', 'swallows', 'Britons', 'go', 'five', 'Camelot', 'guiding', 'feathers', 'just', 'KING', 'these', \"'m\", 'So', 'Court', 'right', 'winter', 'they', 'temperate', '1', \"n't\", 'zone', 'course', 'I', 'King', 'needs', 'husk', 'ask', 'simple', 'wants', 'Are', 'weight', 'held', 'empty', 'They', ',', 'yeah', 'could', 'second', 'Whoa', 'Saxons', 'of', 'anyway', 'Will', 'ridden', 'sun', 'SCENE', 'bangin', 'Not', 'land', '#', 'is', 'Yes', 'that', 'found', 'pound', 'England', 'will', 'with', 'mean', 'In', 'am', 'our', 'speak', 'lord', 'Halt', 'Please', 'carrying', 'maybe', 'and', 'yet', 'carried', 'Pendragon', ':', 'south', 'clop', 'strangers', 'this', '!', 'What', 'from', 'swallow', 'to', 'using', 'wind', 'Ridden', 'there', 'coconuts', \"'em\", \"'\", 'house', 'every', 'Patsy', 'velocity', 'That', 'here', 'carry', 'under', 'Supposing', \"'re\", 'tropical', '[', 'join', 'forty-three', 'minute', 'snows', 'You', 'creeper', 'my', 'breadth', 'trusty', 'covered', 'get', 'castle', ']', 'a', 'knights', 'an', 'or', 'maintain', '--', 'ounce', 'No', '?', 'Pull', 'you', 'bird', 'times', 'if', 'got', 'African', 'back', 'why', 'A', 'does', 'at', 'other', 'Oh'}\n"
          ]
        }
      ]
    },
    {
      "cell_type": "markdown",
      "source": [
        "# Code3.py"
      ],
      "metadata": {
        "id": "eRHuJZ3JKWZ3"
      }
    },
    {
      "cell_type": "code",
      "source": [
        "import re\n",
        "from nltk.tokenize import sent_tokenize\n",
        "\n",
        "scene_one =  get_sample_Santo_Graal()\n",
        "sentences =  sent_tokenize(scene_one)\n",
        "# Search for the first occurrence of \"coconuts\" in scene_one: match\n",
        "match = re.search(\"coconuts\", scene_one)\n",
        "\n",
        "# Print the start and end indexes of match\n",
        "print(match.start(), match.end())\n",
        "print (match)\n",
        "\n",
        "# Write a regular expression to search for anything in square brackets: pattern1\n",
        "pattern1 = r\"\\[.*\\]\"\n",
        "\n",
        "# Use re.search to find the first text in square brackets\n",
        "print(re.search(pattern1, scene_one))\n",
        "\n",
        "# Find the script notation at the beginning of the fourth sentence and print it\n",
        "pattern2 = r\".+:\"\n",
        "print(re.search(pattern2, sentences[3]))"
      ],
      "metadata": {
        "id": "sEaDAx2XktfH",
        "colab": {
          "base_uri": "https://localhost:8080/"
        },
        "outputId": "a1701dd8-059c-4819-88b3-fbf002d4333b"
      },
      "execution_count": null,
      "outputs": [
        {
          "output_type": "stream",
          "name": "stdout",
          "text": [
            "581 589\n",
            "<re.Match object; span=(581, 589), match='coconuts'>\n",
            "<re.Match object; span=(9, 32), match='[wind] [clop clop clop]'>\n",
            "<re.Match object; span=(0, 7), match='ARTHUR:'>\n"
          ]
        }
      ]
    },
    {
      "cell_type": "markdown",
      "source": [
        "# Code4.py"
      ],
      "metadata": {
        "id": "8XwLLVweOp5y"
      }
    },
    {
      "cell_type": "code",
      "source": [
        "# Import the necessary modules\n",
        "\n",
        "from nltk.tokenize import regexp_tokenize, TweetTokenizer\n",
        "\n",
        "tweets = get_tweets_sample()\n",
        "\n",
        "# Define a regex pattern to find hashtags: pattern1\n",
        "pattern1 = r\"#\\w+\"\n",
        "# Use the pattern on the first tweet in the tweets list\n",
        "hashtags = regexp_tokenize(tweets[0], pattern1)\n",
        "print(hashtags)\n",
        "\n",
        "# Write a pattern that matches both mentions (@) and hashtags\n",
        "# pattern2 = r\"(@\\w+|#\\w+)\"\n",
        "pattern2 = r\"[@|#]\\w+\"\n",
        "# Use the pattern on the last tweet in the tweets list\n",
        "mentions_hashtags = regexp_tokenize(tweets[-1], pattern2)\n",
        "print(mentions_hashtags)\n",
        "\n",
        "# Use the TweetTokenizer to tokenize all tweets into one list\n",
        "tknzr = TweetTokenizer()\n",
        "all_tokens = [ tknzr.tokenize(t) for t in tweets ]\n",
        "print(all_tokens)"
      ],
      "metadata": {
        "colab": {
          "base_uri": "https://localhost:8080/"
        },
        "id": "o1jeRH4VOsAi",
        "outputId": "6290086f-6e58-495e-955a-116147482232"
      },
      "execution_count": null,
      "outputs": [
        {
          "output_type": "stream",
          "name": "stdout",
          "text": [
            "['#nlp', '#python']\n",
            "['@Atlantico', '#nlp', '#python']\n",
            "[['This', 'is', 'the', 'best', '#nlp', 'exercise', 'ive', 'found', 'online', '!', '#python'], ['#NLP', 'is', 'super', 'fun', '!', '<3', '#learning'], ['Thanks', '@Atlantico', ':)', '#nlp', '#python']]\n"
          ]
        }
      ]
    },
    {
      "cell_type": "markdown",
      "source": [
        "# Code5.py"
      ],
      "metadata": {
        "id": "MLko2_W5Os8t"
      }
    },
    {
      "cell_type": "code",
      "source": [
        "import matplotlib.pyplot as plt\n",
        "import re\n",
        "from nltk.tokenize import regexp_tokenize\n",
        "\n",
        "# Split the script into lines: lines\n",
        "holy_grail = get_sample_Santo_Graal()\n",
        "lines = holy_grail.split(\"\\n\")\n",
        "\n",
        "# Replace all script lines for speaker\n",
        "pattern = \"[A-Z]{2,}(\\s)?(#\\d)?([A-Z]{2,})?:\"\n",
        "lines = [re.sub(pattern, \"\", l) for l in lines]\n",
        "print(lines)\n",
        "\n",
        "# Tokenize each line: tokenized_lines\n",
        "tokenized_lines = [regexp_tokenize(s,r\"\\w+\") for s in lines]\n",
        "print(\"TOKENIZED LINES:\")\n",
        "print(tokenized_lines)\n",
        "\n",
        "# Make a frequency list of lengths: line_num_words\n",
        "line_num_words = [len(t_line) for t_line in tokenized_lines]\n",
        "print(line_num_words)\n",
        "\n",
        "# Plot a histogram of the line lengths\n",
        "plt.hist(line_num_words)\n",
        "plt.title(\"Tokenized Holy Grail Words\")\n",
        "\n",
        "# Show the plot\n",
        "plt.show()"
      ],
      "metadata": {
        "colab": {
          "base_uri": "https://localhost:8080/",
          "height": 370
        },
        "id": "HcB1Q-HYOuQs",
        "outputId": "0324afac-e63d-4193-8ac6-dcfbe6a7f88a"
      },
      "execution_count": null,
      "outputs": [
        {
          "output_type": "stream",
          "name": "stdout",
          "text": [
            "['SCENE 1: [wind] [clop clop clop] ', '  Whoa there!  [clop clop clop] ', ' Halt!  Who goes there?', ' It is I, Arthur, son of Uther Pendragon, from the castle of Camelot.  King of the Britons, defeator of the Saxons, sovereign of all England!', ' Pull the other one!', ' I am, ...  and this is my trusty servant Patsy.  We have ridden the length and breadth of the land in search of knights who will join me in my court at Camelot.  I must speak with your lord and master.', ' What?  Ridden on a horse?', ' Yes!', \" You're using coconuts!\", ' What?', \" You've got two empty halves of coconut and you're bangin' 'em together.\", ' So?  We have ridden since the snows of winter covered this land, through the kingdom of Mercea, through--', \" Where'd you get the coconuts?\", ' We found them.', \" Found them?  In Mercea?  The coconut's tropical!\", ' What do you mean?', ' Well, this is a temperate zone.', ' The swallow may fly south with the sun or the house martin or the plover may seek warmer climes in winter, yet these are not strangers to our land?', ' Are you suggesting coconuts migrate?', ' Not at all.  They could be carried.', ' What?  A swallow carrying a coconut?', ' It could grip it by the husk!', \" It's not a question of where he grips it!  It's a simple question of weight ratios!  A five ounce bird could not carry a one pound coconut.\", \" Well, it doesn't matter.  Will you go and tell your master that Arthur from the Court of Camelot is here.\", ' Listen.  In order to maintain air-speed velocity, a swallow needs to beat its wings forty-three times every second, right?', ' Please!', ' Am I right?', \" I'm not interested!\", ' It could be carried by an African swallow!', \" Oh, yeah, an African swallow maybe, but not a European swallow.  That's my point.\", ' Oh, yeah, I agree with that.', ' Will you ask your master if he wants to join my court at Camelot?!', ' But then of course a-- African swallows are non-migratory.', ' Oh, yeah...', \" So they couldn't bring a coconut back anyway...  [clop clop clop] \", ' Wait a minute!  Supposing two swallows carried it together?', \" No, they'd have to have it on a line.\", \" Well, simple!  They'd just use a strand of creeper!\", ' What, held under the dorsal guiding feathers?', ' Well, why not?', '']\n",
            "TOKENIZED LINES:\n",
            "[['SCENE', '1', 'wind', 'clop', 'clop', 'clop'], ['Whoa', 'there', 'clop', 'clop', 'clop'], ['Halt', 'Who', 'goes', 'there'], ['It', 'is', 'I', 'Arthur', 'son', 'of', 'Uther', 'Pendragon', 'from', 'the', 'castle', 'of', 'Camelot', 'King', 'of', 'the', 'Britons', 'defeator', 'of', 'the', 'Saxons', 'sovereign', 'of', 'all', 'England'], ['Pull', 'the', 'other', 'one'], ['I', 'am', 'and', 'this', 'is', 'my', 'trusty', 'servant', 'Patsy', 'We', 'have', 'ridden', 'the', 'length', 'and', 'breadth', 'of', 'the', 'land', 'in', 'search', 'of', 'knights', 'who', 'will', 'join', 'me', 'in', 'my', 'court', 'at', 'Camelot', 'I', 'must', 'speak', 'with', 'your', 'lord', 'and', 'master'], ['What', 'Ridden', 'on', 'a', 'horse'], ['Yes'], ['You', 're', 'using', 'coconuts'], ['What'], ['You', 've', 'got', 'two', 'empty', 'halves', 'of', 'coconut', 'and', 'you', 're', 'bangin', 'em', 'together'], ['So', 'We', 'have', 'ridden', 'since', 'the', 'snows', 'of', 'winter', 'covered', 'this', 'land', 'through', 'the', 'kingdom', 'of', 'Mercea', 'through'], ['Where', 'd', 'you', 'get', 'the', 'coconuts'], ['We', 'found', 'them'], ['Found', 'them', 'In', 'Mercea', 'The', 'coconut', 's', 'tropical'], ['What', 'do', 'you', 'mean'], ['Well', 'this', 'is', 'a', 'temperate', 'zone'], ['The', 'swallow', 'may', 'fly', 'south', 'with', 'the', 'sun', 'or', 'the', 'house', 'martin', 'or', 'the', 'plover', 'may', 'seek', 'warmer', 'climes', 'in', 'winter', 'yet', 'these', 'are', 'not', 'strangers', 'to', 'our', 'land'], ['Are', 'you', 'suggesting', 'coconuts', 'migrate'], ['Not', 'at', 'all', 'They', 'could', 'be', 'carried'], ['What', 'A', 'swallow', 'carrying', 'a', 'coconut'], ['It', 'could', 'grip', 'it', 'by', 'the', 'husk'], ['It', 's', 'not', 'a', 'question', 'of', 'where', 'he', 'grips', 'it', 'It', 's', 'a', 'simple', 'question', 'of', 'weight', 'ratios', 'A', 'five', 'ounce', 'bird', 'could', 'not', 'carry', 'a', 'one', 'pound', 'coconut'], ['Well', 'it', 'doesn', 't', 'matter', 'Will', 'you', 'go', 'and', 'tell', 'your', 'master', 'that', 'Arthur', 'from', 'the', 'Court', 'of', 'Camelot', 'is', 'here'], ['Listen', 'In', 'order', 'to', 'maintain', 'air', 'speed', 'velocity', 'a', 'swallow', 'needs', 'to', 'beat', 'its', 'wings', 'forty', 'three', 'times', 'every', 'second', 'right'], ['Please'], ['Am', 'I', 'right'], ['I', 'm', 'not', 'interested'], ['It', 'could', 'be', 'carried', 'by', 'an', 'African', 'swallow'], ['Oh', 'yeah', 'an', 'African', 'swallow', 'maybe', 'but', 'not', 'a', 'European', 'swallow', 'That', 's', 'my', 'point'], ['Oh', 'yeah', 'I', 'agree', 'with', 'that'], ['Will', 'you', 'ask', 'your', 'master', 'if', 'he', 'wants', 'to', 'join', 'my', 'court', 'at', 'Camelot'], ['But', 'then', 'of', 'course', 'a', 'African', 'swallows', 'are', 'non', 'migratory'], ['Oh', 'yeah'], ['So', 'they', 'couldn', 't', 'bring', 'a', 'coconut', 'back', 'anyway', 'clop', 'clop', 'clop'], ['Wait', 'a', 'minute', 'Supposing', 'two', 'swallows', 'carried', 'it', 'together'], ['No', 'they', 'd', 'have', 'to', 'have', 'it', 'on', 'a', 'line'], ['Well', 'simple', 'They', 'd', 'just', 'use', 'a', 'strand', 'of', 'creeper'], ['What', 'held', 'under', 'the', 'dorsal', 'guiding', 'feathers'], ['Well', 'why', 'not'], []]\n",
            "[6, 5, 4, 25, 4, 40, 5, 1, 4, 1, 14, 18, 6, 3, 8, 4, 6, 29, 5, 7, 6, 7, 29, 21, 21, 1, 3, 4, 8, 15, 6, 14, 10, 2, 12, 9, 10, 10, 7, 3, 0]\n"
          ]
        },
        {
          "output_type": "display_data",
          "data": {
            "text/plain": [
              "<Figure size 432x288 with 1 Axes>"
            ],
            "image/png": "[encoded data removed]"
          },
          "metadata": {
            "needs_background": "light"
          }
        }
      ]
    }
  ]
}